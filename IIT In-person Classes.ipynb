{
 "cells": [
  {
   "cell_type": "code",
   "execution_count": 165,
   "metadata": {},
   "outputs": [],
   "source": [
    "import pandas as pd\n",
    "#import json\n",
    "#from pandas.io.json import json_normalize  "
   ]
  },
  {
   "cell_type": "code",
   "execution_count": 166,
   "metadata": {},
   "outputs": [],
   "source": [
    "#with open('/Users/alishakhan/Documents/iitcourses.json') as data_file:    \n",
    "#    data = json.load(data_file)  \n",
    "\n"
   ]
  },
  {
   "cell_type": "code",
   "execution_count": null,
   "metadata": {},
   "outputs": [],
   "source": [
    "#df = json_normalize(data, 'locations', ['date', 'number', 'name'], \n",
    "#                    record_prefix='locations_')"
   ]
  },
  {
   "cell_type": "code",
   "execution_count": 148,
   "metadata": {},
   "outputs": [],
   "source": [
    "df = pd.read_json('/Users/alishakhan/Documents/iitcourses.json')"
   ]
  },
  {
   "cell_type": "code",
   "execution_count": 149,
   "metadata": {},
   "outputs": [],
   "source": [
    "def c(x):\n",
    "    substring='Class'\n",
    "    if substring in str(x):\n",
    "        return x\n",
    "    else:\n",
    "        return 'NONE'"
   ]
  },
  {
   "cell_type": "code",
   "execution_count": 150,
   "metadata": {},
   "outputs": [],
   "source": [
    "newdf=df[(c(df['sections'])!=None)]"
   ]
  },
  {
   "cell_type": "code",
   "execution_count": 151,
   "metadata": {},
   "outputs": [],
   "source": [
    "df['sections']=df['sections'].apply(c)"
   ]
  },
  {
   "cell_type": "code",
   "execution_count": 153,
   "metadata": {},
   "outputs": [],
   "source": [
    "newdf=df[(df['sections']!='NONE')].copy()"
   ]
  },
  {
   "cell_type": "code",
   "execution_count": 155,
   "metadata": {},
   "outputs": [],
   "source": [
    "def string1(x):\n",
    "    x=str(x)\n",
    "    word=\"{'Fall 2020': {\"\n",
    "    if word in x:\n",
    "        wordEndIndex = x.index(word) + len(word) - 1\n",
    "        x=x[wordEndIndex:]\n",
    "    if \"'Internet':\" in x:\n",
    "        result=x.index(\"'Internet':\")\n",
    "        return x[:result]\n",
    "    else:\n",
    "        return x\n",
    "        "
   ]
  },
  {
   "cell_type": "code",
   "execution_count": 156,
   "metadata": {},
   "outputs": [],
   "source": [
    "newdf['sections']=newdf['sections'].apply(string1)"
   ]
  },
  {
   "cell_type": "code",
   "execution_count": 157,
   "metadata": {},
   "outputs": [],
   "source": [
    "newdf.to_csv('iit_classes.csv')"
   ]
  },
  {
   "cell_type": "code",
   "execution_count": 158,
   "metadata": {},
   "outputs": [],
   "source": [
    "def Insert_row(row_number, df, row_value): \n",
    "    # Starting value of upper half \n",
    "    start_upper = 0\n",
    "   \n",
    "    # End value of upper half \n",
    "    end_upper = row_number \n",
    "   \n",
    "    # Start value of lower half \n",
    "    start_lower = row_number \n",
    "   \n",
    "    # End value of lower half \n",
    "    end_lower = df.shape[0] \n",
    "   \n",
    "    # Create a list of upper_half index \n",
    "    upper_half = [*range(start_upper, end_upper, 1)] \n",
    "   \n",
    "    # Create a list of lower_half index \n",
    "    lower_half = [*range(start_lower, end_lower, 1)] \n",
    "   \n",
    "    # Increment the value of lower half by 1 \n",
    "    lower_half = [x.__add__(1) for x in lower_half] \n",
    "   \n",
    "    # Combine the two lists \n",
    "    index_ = upper_half + lower_half \n",
    "   \n",
    "    # Update the index of the dataframe \n",
    "    df.index = index_ \n",
    "   \n",
    "    # Insert a row at the end \n",
    "    df.loc[row_number] = row_value \n",
    "    \n",
    "    # Sort the index labels \n",
    "    df = df.sort_index() \n",
    "   \n",
    "    # return the dataframe \n",
    "    return df"
   ]
  },
  {
   "cell_type": "code",
   "execution_count": 254,
   "metadata": {},
   "outputs": [],
   "source": [
    "flatdf = pd.DataFrame(columns=['name','title','attributes','description','section', 'section_type',\n",
    "                              'available', 'special_title', 'capacity', 'enrolled','crn','levels',\n",
    "                               'schedule_type', 'instructors', 'where', 'days', 'time'])\n",
    "i=0\n",
    "for idx, row in df.iterrows():\n",
    "    sections = row['sections']\n",
    "    if (sections is not 'NONE'):\n",
    "        for section in sections:\n",
    "            for section_type in sections[section]:\n",
    "                if section_type != 'Internet':\n",
    "                    for details in sections[section][section_type]: \n",
    "                        meetings = details['meetings']\n",
    "                        for meeting in meetings:\n",
    "                            flatdf.loc[i] = [row['name'], row['title'], row['attributes'], row['description'],\n",
    "                                             section, section_type, details['available'], details['special_title'], \n",
    "                                             details['capacity'],details['enrolled'], details['crn'], \n",
    "                                             details['levels'], details['schedule_type'],meeting['instructors'],  \n",
    "                                             meeting['where'], meeting['days'], meeting['time']]\n",
    "                            i+=1\n",
    "    else:\n",
    "        pass\n",
    "        # This is for NONE \n",
    "        #flatdf.loc[i] = [row['name'], row['title'], row['attributes'], row['description'], \n",
    "        #                 '','','','','','','','','','','','','']\n",
    "        #i+=1"
   ]
  },
  {
   "cell_type": "code",
   "execution_count": 255,
   "metadata": {},
   "outputs": [
    {
     "data": {
      "text/plain": [
       "(2265, 17)"
      ]
     },
     "execution_count": 255,
     "metadata": {},
     "output_type": "execute_result"
    }
   ],
   "source": [
    "flatdf.shape"
   ]
  },
  {
   "cell_type": "code",
   "execution_count": 257,
   "metadata": {},
   "outputs": [],
   "source": [
    "flatdf.to_csv('iit_classes.csv')"
   ]
  },
  {
   "cell_type": "code",
   "execution_count": 256,
   "metadata": {},
   "outputs": [
    {
     "data": {
      "text/plain": [
       "array(['Class', 'Independent Study/Research'], dtype=object)"
      ]
     },
     "execution_count": 256,
     "metadata": {},
     "output_type": "execute_result"
    }
   ],
   "source": [
    "flatdf['section_type'].unique()"
   ]
  },
  {
   "cell_type": "code",
   "execution_count": null,
   "metadata": {},
   "outputs": [],
   "source": []
  }
 ],
 "metadata": {
  "kernelspec": {
   "display_name": "Python 3",
   "language": "python",
   "name": "python3"
  },
  "language_info": {
   "codemirror_mode": {
    "name": "ipython",
    "version": 3
   },
   "file_extension": ".py",
   "mimetype": "text/x-python",
   "name": "python",
   "nbconvert_exporter": "python",
   "pygments_lexer": "ipython3",
   "version": "3.7.6"
  }
 },
 "nbformat": 4,
 "nbformat_minor": 4
}
